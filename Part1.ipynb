{
 "cells": [
  {
   "cell_type": "markdown",
   "metadata": {},
   "source": [
    "# Segmenting and Clustering Neighborhoods in Toronto Assignment"
   ]
  },
  {
   "cell_type": "markdown",
   "metadata": {},
   "source": [
    "## First Importing Librarys"
   ]
  },
  {
   "cell_type": "code",
   "execution_count": 1,
   "metadata": {},
   "outputs": [],
   "source": [
    "import requests        #For HTTP Requests\n",
    "import lxml.html as lh #For Html to ? Convertion\n",
    "import pandas as pd    #For Creating Dataframs\n",
    "from lxml import etree #For Converting HTML Elements to Raw HTML\n",
    "import numpy as np     #For Vectorized Computation"
   ]
  },
  {
   "cell_type": "markdown",
   "metadata": {},
   "source": [
    "## Second Preparing Data"
   ]
  },
  {
   "cell_type": "markdown",
   "metadata": {},
   "source": [
    "Getting a data from a table located somewhere in a web page isn't that difficult, In order to get data then there is couple of things you need to know about HTML.\n",
    "First HTML is a markup language which means it's written as tags like: "
   ]
  },
  {
   "cell_type": "raw",
   "metadata": {},
   "source": [
    "(<'Div>,<'Form>,<'Table> etc.)"
   ]
  },
  {
   "cell_type": "markdown",
   "metadata": {},
   "source": [
    "and those tags always have a start and end so they look like something like this:  "
   ]
  },
  {
   "cell_type": "raw",
   "metadata": {},
   "source": [
    "<'div> Any Thing (Data of Other Tags) </'div>  "
   ]
  },
  {
   "cell_type": "markdown",
   "metadata": {},
   "source": [
    "The other thing is these tags sometimes contains attributes that defines some property's for the tag, A tag with an attribute will look like something like this:"
   ]
  },
  {
   "cell_type": "raw",
   "metadata": {},
   "source": [
    "<'div attribute='Value'>  Any Thing (Data of Other Tags)  </'div>  "
   ]
  },
  {
   "cell_type": "markdown",
   "metadata": {},
   "source": [
    "There is two attributes that we need to focus on:\n",
    "<ul>\n",
    "    <li><strong>Class</strong> : Which defines the style class of the tag (Same Class Can Be Used For Multiple tags)</li>\n",
    "    <li><strong>Id</strong>    : Which defines a unique name for the tag (Ids are Unique and Can't Be Used For Multiple tags)</li>\n",
    "</ul>\n",
    "So in order to get a tag then the first thing that you need to consider is to find the id of the tag (<font style='color:#f90909 !important;'>IF EXISTED</font>), and in order to get that tag is by opening your browser and 'Right Click' on that tag and click on 'Inspect' as follow:"
   ]
  },
  {
   "cell_type": "markdown",
   "metadata": {},
   "source": [
    "<img src=\"Ex1.png\" />"
   ]
  },
  {
   "cell_type": "markdown",
   "metadata": {},
   "source": [
    "After that a small screen will appear and it will contain the HTML of the page and focus on the tag that you have 'Right-Clicked' on it, you will need to look for a 'Table' tag and try to find if there an id attribute with it."
   ]
  },
  {
   "cell_type": "markdown",
   "metadata": {},
   "source": [
    "<img src=\"Ex2.png\" />"
   ]
  },
  {
   "cell_type": "markdown",
   "metadata": {},
   "source": [
    "Based on the above image you can see that there is't an id with the table 'BUT' there is a class attribute so we will simply copy the value of that class and  assign it to a new variable in our notebook"
   ]
  },
  {
   "cell_type": "code",
   "execution_count": 17,
   "metadata": {},
   "outputs": [],
   "source": [
    "Table_Class = \"wikitable sortable\" #Just Copy the First Two Words"
   ]
  },
  {
   "cell_type": "markdown",
   "metadata": {},
   "source": [
    "### Data Enquiring\n",
    "Now we will get the contents of the page and dig for that Table and for that we will gonna use LXML library"
   ]
  },
  {
   "cell_type": "code",
   "execution_count": 19,
   "metadata": {},
   "outputs": [
    {
     "name": "stdout",
     "output_type": "stream",
     "text": [
      "<Response [200]>\n"
     ]
    }
   ],
   "source": [
    "wikipedia_url='https://en.wikipedia.org/wiki/List_of_postal_codes_of_Canada:_M'  #Page Url\n",
    "page = requests.get(wikipedia_url)                                               #Get the Page\n",
    "doc = lh.fromstring(page.content)                                                #getting the contents of the website\n",
    "\n",
    "#Now we will get the wikipedia table that has a class attribute thet contints \"wikitable sortable\"\n",
    "results  = doc.xpath(\"//table[@class='%s']\" % Table_Class )\n",
    "\n",
    "table = results[0]          #Getting The Table Which Should be the First in List (as HTML Element)\n",
    "raw = etree.tostring(table) #Getting Raw HTML From HTML Element\n",
    "df = pd.read_html(raw)[0]   #Use Pandas 'read_html' Function to Convert From HTML to Dataframe\n",
    "\n",
    "df.head()                   #Printing Result Dataframe"
   ]
  },
  {
   "cell_type": "markdown",
   "metadata": {},
   "source": [
    "### Cleaning Data\n",
    "First we will delete every row that has 'Borough' value is not assign, then we will copy the value of 'Borough' column to 'Neighbourhood' that has no value and after that we will reset the dataframe index.\n",
    "Next is kind of tricky; we will group data based on 'Postcode' and aggregate the child value into one cell but separate them by a comma  "
   ]
  },
  {
   "cell_type": "code",
   "execution_count": 14,
   "metadata": {},
   "outputs": [
    {
     "data": {
      "text/plain": [
       "(103, 3)"
      ]
     },
     "execution_count": 14,
     "metadata": {},
     "output_type": "execute_result"
    }
   ],
   "source": [
    "df.drop(df.loc[df['Borough'] == \"Not assigned\"].index, inplace=True)         #Removing Rows That Has \"Not assigned\" Value\n",
    "df.loc[df['Neighbourhood'] == \"Not assigned\" , 'Neighbourhood'] = df['Borough'];\n",
    "df = df.reset_index(drop=True)                                               #Reseting Index\n",
    "tmp = df.groupby(['Postcode'])['Neighbourhood'].agg(', '.join).reset_index() #Grouping Data\n",
    "tmp['Borough'] = df.groupby(['Postcode'])['Borough'].first().reset_index()['Borough']\n",
    "df = tmp                                 \n",
    "df.shape"
   ]
  },
  {
   "cell_type": "code",
   "execution_count": null,
   "metadata": {},
   "outputs": [],
   "source": []
  }
 ],
 "metadata": {
  "kernelspec": {
   "display_name": "Python 3",
   "language": "python",
   "name": "python3"
  },
  "language_info": {
   "codemirror_mode": {
    "name": "ipython",
    "version": 3
   },
   "file_extension": ".py",
   "mimetype": "text/x-python",
   "name": "python",
   "nbconvert_exporter": "python",
   "pygments_lexer": "ipython3",
   "version": "3.6.8"
  }
 },
 "nbformat": 4,
 "nbformat_minor": 2
}
